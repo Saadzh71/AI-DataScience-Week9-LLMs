{
 "cells": [
  {
   "cell_type": "markdown",
   "id": "2fb9ed4d",
   "metadata": {},
   "source": [
    "\n",
    "# Exercise: Building a Multi-Agent System\n",
    "\n",
    "In this exercise, you will create a simple multi-agent system where two agents collaborate to accomplish a common goal. The first agent will conduct research on a topic, and the second agent will summarize the research.\n",
    "\n",
    "Follow the steps below to complete the exercise.\n",
    "\n",
    "---\n",
    "### Step 1: Install the Required Libraries\n",
    "\n",
    "Make sure the necessary libraries are installed using the following command:\n"
   ]
  },
  {
   "cell_type": "code",
   "execution_count": null,
   "id": "0352a049",
   "metadata": {},
   "outputs": [],
   "source": []
  },
  {
   "cell_type": "markdown",
   "id": "4680062e",
   "metadata": {},
   "source": [
    "\n",
    "---\n",
    "### Step 2: Import the Necessary Libraries\n",
    "\n",
    "You will need to import the relevant libraries to create and manage your agents. Fill in the missing parts of the code below:\n"
   ]
  },
  {
   "cell_type": "code",
   "execution_count": null,
   "id": "2620b4a8",
   "metadata": {},
   "outputs": [],
   "source": []
  },
  {
   "cell_type": "markdown",
   "id": "fc736f9e",
   "metadata": {},
   "source": [
    "\n",
    "---\n",
    "### Step 3: Create Agents\n",
    "\n",
    "Now, define the two agents. **Agent 1** will handle research, and **Agent 2** will summarize the research.\n",
    "\n",
    "Fill in the code below to create the agents:\n"
   ]
  },
  {
   "cell_type": "code",
   "execution_count": null,
   "id": "35b5dd49",
   "metadata": {},
   "outputs": [],
   "source": []
  },
  {
   "cell_type": "markdown",
   "id": "48ad534f",
   "metadata": {},
   "source": [
    "\n",
    "---\n",
    "### Step 4: Execute the Multi-Agent System\n",
    "\n",
    "Finally, run the system to allow the agents to collaborate and complete their tasks.\n"
   ]
  },
  {
   "cell_type": "code",
   "execution_count": null,
   "id": "96ece49c",
   "metadata": {},
   "outputs": [],
   "source": []
  }
 ],
 "metadata": {
  "language_info": {
   "name": "python"
  }
 },
 "nbformat": 4,
 "nbformat_minor": 5
}
